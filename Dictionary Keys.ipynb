{
 "cells": [
  {
   "cell_type": "markdown",
   "id": "e35be431",
   "metadata": {},
   "source": [
    "# Working With Dictionary Keys In Python\n",
    "\n",
    "In Python, dictionaries are a fundamental data structure used to store collections of key-value pairs. These pairs act like entries in a lookup table, allowing you to efficiently associate unique keys with their corresponding values."
   ]
  },
  {
   "cell_type": "code",
   "execution_count": 1,
   "id": "784b7db4",
   "metadata": {},
   "outputs": [
    {
     "name": "stdout",
     "output_type": "stream",
     "text": [
      "{'Name': 'Analyst Adekola', 'Location': 'Lagos', 'Email': 'adelekeadekola17@gmail.com', 'Summary': 'I am a Data Scientist and a Business Strategist with an educational background in Economics.', 'Profession': 'Data Scientist', 'Portfolio': 'https://linktr.ee/analystadekola', 'Income': 75000000}\n"
     ]
    }
   ],
   "source": [
    "#Creating a dictionary\n",
    "\n",
    "Profile = {\"Name\": \"Analyst Adekola\",\n",
    "           \"Location\": \"Lagos\",\n",
    "           \"Email\": \"adelekeadekola17@gmail.com\",\n",
    "           \"Summary\": \"I am a Data Scientist and a Business Strategist with an educational background in Economics.\",\n",
    "           \"Profession\":\"Data Scientist\",\n",
    "           \"Portfolio\":\"https://linktr.ee/analystadekola\",\n",
    "           \"Income\": 75000000\n",
    "}\n",
    "print(Profile)\n"
   ]
  },
  {
   "cell_type": "code",
   "execution_count": 4,
   "id": "24176c3d",
   "metadata": {},
   "outputs": [
    {
     "name": "stdout",
     "output_type": "stream",
     "text": [
      "My name is Analyst Adekola , I am a Data Scientist and a Business Strategist with an educational background in Economics.\n"
     ]
    }
   ],
   "source": [
    "# Accessing Items in a dictionary\n",
    "\n",
    "My_name = Profile[\"Name\"]\n",
    "My_summary = Profile[\"Summary\"]\n",
    "print(\"My name is\",My_name,\",\",My_summary)"
   ]
  },
  {
   "cell_type": "code",
   "execution_count": 6,
   "id": "ced11d12",
   "metadata": {},
   "outputs": [
    {
     "name": "stdout",
     "output_type": "stream",
     "text": [
      "Data Scientist\n"
     ]
    }
   ],
   "source": [
    "#You can also use \"get\" to access the dictionary\n",
    "\n",
    "My_profession = Profile.get(\"Profession\")\n",
    "print(My_profession)"
   ]
  },
  {
   "cell_type": "code",
   "execution_count": 7,
   "id": "02958509",
   "metadata": {},
   "outputs": [
    {
     "data": {
      "text/plain": [
       "dict_keys(['Name', 'Location', 'Email', 'Summary', 'Profession', 'Portfolio', 'Income'])"
      ]
     },
     "execution_count": 7,
     "metadata": {},
     "output_type": "execute_result"
    }
   ],
   "source": [
    "# Dictionary Keys\n",
    "# Here is how to know your dictionary keys using \"keys\"\n",
    "\n",
    "Profile.keys()"
   ]
  },
  {
   "cell_type": "code",
   "execution_count": 8,
   "id": "24f77cf3",
   "metadata": {},
   "outputs": [
    {
     "data": {
      "text/plain": [
       "['Name', 'Location', 'Email', 'Summary', 'Profession', 'Portfolio', 'Income']"
      ]
     },
     "execution_count": 8,
     "metadata": {},
     "output_type": "execute_result"
    }
   ],
   "source": [
    "#To print as a list\n",
    "list(Profile.keys())"
   ]
  },
  {
   "cell_type": "code",
   "execution_count": 9,
   "id": "3565ac43",
   "metadata": {},
   "outputs": [
    {
     "name": "stdout",
     "output_type": "stream",
     "text": [
      "Name\n",
      "Location\n",
      "Email\n",
      "Summary\n",
      "Profession\n",
      "Portfolio\n",
      "Income\n"
     ]
    }
   ],
   "source": [
    "#You can also use the \"For\" keyword\n",
    "\n",
    "for keys in Profile.keys():\n",
    "    print(keys)"
   ]
  }
 ],
 "metadata": {
  "kernelspec": {
   "display_name": "Python 3",
   "language": "python",
   "name": "python3"
  },
  "language_info": {
   "codemirror_mode": {
    "name": "ipython",
    "version": 3
   },
   "file_extension": ".py",
   "mimetype": "text/x-python",
   "name": "python",
   "nbconvert_exporter": "python",
   "pygments_lexer": "ipython3",
   "version": "3.8.8"
  }
 },
 "nbformat": 4,
 "nbformat_minor": 5
}
